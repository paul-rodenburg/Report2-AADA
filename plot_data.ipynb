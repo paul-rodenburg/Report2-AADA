{
 "cells": [
  {
   "cell_type": "code",
   "execution_count": 1,
   "id": "0568cb92-1989-4a9a-8c78-726788a23d90",
   "metadata": {},
   "outputs": [],
   "source": [
    "from sklearn.datasets import make_blobs\n",
    "import matplotlib.pyplot as plt\n",
    "import os\n",
    "import numpy as np\n",
    "from tqdm import tqdm"
   ]
  },
  {
   "cell_type": "code",
   "execution_count": 2,
   "id": "49300586-8ecd-444a-9fe4-83d6612ffa7e",
   "metadata": {},
   "outputs": [],
   "source": [
    "def plot_generated_data(Xc, Xn, N, noise_ratio, title=None):\n",
    "    \"\"\"\n",
    "    Plot clustered points and uniform noise.\n",
    "    \n",
    "    Parameters:\n",
    "        Xc: ndarray of clustered points (N x 2)\n",
    "        Xn: ndarray of uniform noise points (M x 2)\n",
    "        title: optional plot title\n",
    "    \"\"\"\n",
    "    plt.figure(figsize=(6, 6))\n",
    "    if len(Xc) > 0:\n",
    "        plt.scatter(Xc[:, 0], Xc[:, 1], s=10, color=\"C0\", label=\"Clustered points\")\n",
    "    if len(Xn) > 0:\n",
    "        plt.scatter(Xn[:, 0], Xn[:, 1], s=10, color=\"C1\", label=\"Uniform noise\")\n",
    "    \n",
    "    plt.legend()\n",
    "    plt.xlabel(\"x\")\n",
    "    plt.ylabel(\"y\")\n",
    "    plt.title(title or \"Generated Data (Clusters + Noise)\")\n",
    "    plt.axis(\"equal\")\n",
    "    plt.grid(True)\n",
    "    plt.tight_layout()\n",
    "    # plt.show()\n",
    "\n",
    "    os.makedirs('plots', exist_ok=True)\n",
    "    noise_ratio_file_title = str(noise_ratio).replace('.', '_') # No '.' in the filename just to be sure\n",
    "    plt.savefig(f'plots/data_{N}_{noise_ratio_file_title}.pdf')\n",
    "    plt.close()"
   ]
  },
  {
   "cell_type": "code",
   "execution_count": 3,
   "id": "6d8ead08-433b-4427-ba62-db634b47b2f7",
   "metadata": {},
   "outputs": [
    {
     "name": "stderr",
     "output_type": "stream",
     "text": [
      "Generating pltos...: 100%|██████| 6/6 [00:00<00:00,  7.88it/s, N=10000; noise=0.5]"
     ]
    },
    {
     "name": "stdout",
     "output_type": "stream",
     "text": [
      "Plots saved to /plots folder!\n"
     ]
    }
   ],
   "source": [
    "eps = 0.5\n",
    "min_pts = 5\n",
    "\n",
    "# Sizes and noise levels to test\n",
    "# grid_N = [1_000, 10_000, 100_000, 500_000]\n",
    "# noise_ratios = [0.0, 0.2, 0.5]    # fraction of points uniformly at random\n",
    "grid_N = [1_000, 10_000]\n",
    "noise_ratios = [0.0, 0.2, 0.5]\n",
    "\n",
    "results = []\n",
    "total = len(grid_N) * len(noise_ratios)\n",
    "p_bar = tqdm(desc='Generating plots...', total=total)\n",
    "for N in grid_N:\n",
    "    for noise_frac in noise_ratios:\n",
    "        p_bar.update(1)\n",
    "        p_bar.set_postfix_str(f'N={N}; noise={noise_frac}')\n",
    "        n_noise = int(N * noise_frac)\n",
    "        n_clusters = N - n_noise\n",
    "        # Generate clustered data\n",
    "        Xc, _ = make_blobs(n_samples=n_clusters,\n",
    "                           centers=[(-5,-5),(5,5),(5,-5),(-5,5)],\n",
    "                           cluster_std=1.0, random_state=42)\n",
    "        # Generate uniform noise\n",
    "        Xn = np.random.uniform(low=-10, high=10, size=(n_noise, 2))\n",
    "        X = np.vstack([Xc, Xn])\n",
    "\n",
    "        plot_generated_data(Xc, Xn, N, noise_frac, title=f'Generated data for N={N} and noise ratio={noise_frac}')\n",
    "\n",
    "print('Plots saved to /plots folder!')"
   ]
  }
 ],
 "metadata": {
  "kernelspec": {
   "display_name": "Python [conda env:base] *",
   "language": "python",
   "name": "conda-base-py"
  },
  "language_info": {
   "codemirror_mode": {
    "name": "ipython",
    "version": 3
   },
   "file_extension": ".py",
   "mimetype": "text/x-python",
   "name": "python",
   "nbconvert_exporter": "python",
   "pygments_lexer": "ipython3",
   "version": "3.12.4"
  }
 },
 "nbformat": 4,
 "nbformat_minor": 5
}
